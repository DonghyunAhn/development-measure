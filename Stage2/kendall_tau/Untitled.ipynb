{
 "cells": [
  {
   "cell_type": "markdown",
   "metadata": {},
   "source": [
    "## Kendall-tau correlation  \n",
    "\n",
    "Runnable code for measuring kendall-tau correlation across all annotators (Table S1).  \n",
    "Input : POG textfile path, POG annotato info path  \n",
    "Output : kendall-tau corr. accorss all annotators. Results are saved in results/tau_pog.csv \n",
    "\n",
    "```\n",
    "txt2kendall2.py {POG textfile} {POG annotator info textfile}\n",
    "```\n",
    "In our repository, we saved the both textfile in the directory POG_annotation.   \n",
    "\n",
    "```\n",
    "python3 txt2kendall2.py ../POG_annotation/POG_collection.txt ../POG_annotation/POG_annotators.txt\n",
    "```\n",
    "You can check the result on *results/tau_pog.csv*   "
   ]
  }
 ],
 "metadata": {
  "kernelspec": {
   "display_name": "Python 3",
   "language": "python",
   "name": "python3"
  },
  "language_info": {
   "codemirror_mode": {
    "name": "ipython",
    "version": 3
   },
   "file_extension": ".py",
   "mimetype": "text/x-python",
   "name": "python",
   "nbconvert_exporter": "python",
   "pygments_lexer": "ipython3",
   "version": "3.8.10"
  }
 },
 "nbformat": 4,
 "nbformat_minor": 4
}
