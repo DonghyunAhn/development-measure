{
 "cells": [
  {
   "cell_type": "code",
   "execution_count": 2,
   "metadata": {},
   "outputs": [],
   "source": [
    "import pandas as pd\n",
    "import numpy as np\n",
    "import scipy.stats as stats"
   ]
  },
  {
   "cell_type": "markdown",
   "metadata": {},
   "source": [
    "### Load ground truth  \n",
    "Load the ground truth data from `TableS5_S6_S7_S8_ref/NK_gt_stats.csv`,  \n",
    "which is the 'grid_year' sheet of `TableS4_ref/TableS4_evaluation.xlsx` with a district information.  "
   ]
  },
  {
   "cell_type": "code",
   "execution_count": 3,
   "metadata": {
    "scrolled": true
   },
   "outputs": [
    {
     "data": {
      "text/html": [
       "<div>\n",
       "<style scoped>\n",
       "    .dataframe tbody tr th:only-of-type {\n",
       "        vertical-align: middle;\n",
       "    }\n",
       "\n",
       "    .dataframe tbody tr th {\n",
       "        vertical-align: top;\n",
       "    }\n",
       "\n",
       "    .dataframe thead th {\n",
       "        text-align: right;\n",
       "    }\n",
       "</style>\n",
       "<table border=\"1\" class=\"dataframe\">\n",
       "  <thead>\n",
       "    <tr style=\"text-align: right;\">\n",
       "      <th></th>\n",
       "      <th>district</th>\n",
       "      <th>y_x</th>\n",
       "      <th>year2016</th>\n",
       "      <th>year2017</th>\n",
       "      <th>year2018</th>\n",
       "      <th>year2019</th>\n",
       "      <th>4years_mean</th>\n",
       "      <th>FA2014</th>\n",
       "      <th>lnFA2014</th>\n",
       "    </tr>\n",
       "  </thead>\n",
       "  <tbody>\n",
       "    <tr>\n",
       "      <th>0</th>\n",
       "      <td>0</td>\n",
       "      <td>6259_13990</td>\n",
       "      <td>0.105597</td>\n",
       "      <td>0.081331</td>\n",
       "      <td>0.109646</td>\n",
       "      <td>0.075321</td>\n",
       "      <td>0.092974</td>\n",
       "      <td>28240.915870</td>\n",
       "      <td>10.24852712</td>\n",
       "    </tr>\n",
       "    <tr>\n",
       "      <th>1</th>\n",
       "      <td>0</td>\n",
       "      <td>6259_13991</td>\n",
       "      <td>0.093337</td>\n",
       "      <td>0.102167</td>\n",
       "      <td>0.163974</td>\n",
       "      <td>0.098552</td>\n",
       "      <td>0.114507</td>\n",
       "      <td>32860.812480</td>\n",
       "      <td>10.40003612</td>\n",
       "    </tr>\n",
       "    <tr>\n",
       "      <th>2</th>\n",
       "      <td>0</td>\n",
       "      <td>6259_13992</td>\n",
       "      <td>0.101376</td>\n",
       "      <td>0.081884</td>\n",
       "      <td>0.119916</td>\n",
       "      <td>0.086924</td>\n",
       "      <td>0.097525</td>\n",
       "      <td>43246.583070</td>\n",
       "      <td>10.67467351</td>\n",
       "    </tr>\n",
       "    <tr>\n",
       "      <th>3</th>\n",
       "      <td>0</td>\n",
       "      <td>6260_13989</td>\n",
       "      <td>0.083021</td>\n",
       "      <td>0.031730</td>\n",
       "      <td>0.068891</td>\n",
       "      <td>0.018144</td>\n",
       "      <td>0.050447</td>\n",
       "      <td>3103.045177</td>\n",
       "      <td>8.040139223</td>\n",
       "    </tr>\n",
       "    <tr>\n",
       "      <th>4</th>\n",
       "      <td>0</td>\n",
       "      <td>6260_13990</td>\n",
       "      <td>0.088743</td>\n",
       "      <td>0.101351</td>\n",
       "      <td>0.124538</td>\n",
       "      <td>0.081862</td>\n",
       "      <td>0.099124</td>\n",
       "      <td>16225.334260</td>\n",
       "      <td>9.694329143</td>\n",
       "    </tr>\n",
       "    <tr>\n",
       "      <th>...</th>\n",
       "      <td>...</td>\n",
       "      <td>...</td>\n",
       "      <td>...</td>\n",
       "      <td>...</td>\n",
       "      <td>...</td>\n",
       "      <td>...</td>\n",
       "      <td>...</td>\n",
       "      <td>...</td>\n",
       "      <td>...</td>\n",
       "    </tr>\n",
       "    <tr>\n",
       "      <th>32573</th>\n",
       "      <td>209</td>\n",
       "      <td>6267_13903</td>\n",
       "      <td>0.103661</td>\n",
       "      <td>0.126874</td>\n",
       "      <td>0.127428</td>\n",
       "      <td>0.131098</td>\n",
       "      <td>0.122265</td>\n",
       "      <td>173559.077800</td>\n",
       "      <td>12.06427333</td>\n",
       "    </tr>\n",
       "    <tr>\n",
       "      <th>32574</th>\n",
       "      <td>209</td>\n",
       "      <td>6267_13904</td>\n",
       "      <td>0.112280</td>\n",
       "      <td>0.107932</td>\n",
       "      <td>0.104552</td>\n",
       "      <td>0.125163</td>\n",
       "      <td>0.112482</td>\n",
       "      <td>279545.043700</td>\n",
       "      <td>12.54091872</td>\n",
       "    </tr>\n",
       "    <tr>\n",
       "      <th>32575</th>\n",
       "      <td>209</td>\n",
       "      <td>6268_13901</td>\n",
       "      <td>0.100399</td>\n",
       "      <td>0.096662</td>\n",
       "      <td>0.125510</td>\n",
       "      <td>0.108526</td>\n",
       "      <td>0.107774</td>\n",
       "      <td>85932.149600</td>\n",
       "      <td>11.36131331</td>\n",
       "    </tr>\n",
       "    <tr>\n",
       "      <th>32576</th>\n",
       "      <td>209</td>\n",
       "      <td>6268_13902</td>\n",
       "      <td>0.076248</td>\n",
       "      <td>0.066684</td>\n",
       "      <td>0.110193</td>\n",
       "      <td>0.084869</td>\n",
       "      <td>0.084499</td>\n",
       "      <td>77966.322260</td>\n",
       "      <td>11.26403225</td>\n",
       "    </tr>\n",
       "    <tr>\n",
       "      <th>32577</th>\n",
       "      <td>209</td>\n",
       "      <td>6268_13903</td>\n",
       "      <td>0.092782</td>\n",
       "      <td>0.119523</td>\n",
       "      <td>0.105899</td>\n",
       "      <td>0.102094</td>\n",
       "      <td>0.105075</td>\n",
       "      <td>41308.283590</td>\n",
       "      <td>10.62881833</td>\n",
       "    </tr>\n",
       "  </tbody>\n",
       "</table>\n",
       "<p>32578 rows × 9 columns</p>\n",
       "</div>"
      ],
      "text/plain": [
       "       district         y_x  year2016  year2017  year2018  year2019  \\\n",
       "0             0  6259_13990  0.105597  0.081331  0.109646  0.075321   \n",
       "1             0  6259_13991  0.093337  0.102167  0.163974  0.098552   \n",
       "2             0  6259_13992  0.101376  0.081884  0.119916  0.086924   \n",
       "3             0  6260_13989  0.083021  0.031730  0.068891  0.018144   \n",
       "4             0  6260_13990  0.088743  0.101351  0.124538  0.081862   \n",
       "...         ...         ...       ...       ...       ...       ...   \n",
       "32573       209  6267_13903  0.103661  0.126874  0.127428  0.131098   \n",
       "32574       209  6267_13904  0.112280  0.107932  0.104552  0.125163   \n",
       "32575       209  6268_13901  0.100399  0.096662  0.125510  0.108526   \n",
       "32576       209  6268_13902  0.076248  0.066684  0.110193  0.084869   \n",
       "32577       209  6268_13903  0.092782  0.119523  0.105899  0.102094   \n",
       "\n",
       "       4years_mean         FA2014     lnFA2014  \n",
       "0         0.092974   28240.915870  10.24852712  \n",
       "1         0.114507   32860.812480  10.40003612  \n",
       "2         0.097525   43246.583070  10.67467351  \n",
       "3         0.050447    3103.045177  8.040139223  \n",
       "4         0.099124   16225.334260  9.694329143  \n",
       "...            ...            ...          ...  \n",
       "32573     0.122265  173559.077800  12.06427333  \n",
       "32574     0.112482  279545.043700  12.54091872  \n",
       "32575     0.107774   85932.149600  11.36131331  \n",
       "32576     0.084499   77966.322260  11.26403225  \n",
       "32577     0.105075   41308.283590  10.62881833  \n",
       "\n",
       "[32578 rows x 9 columns]"
      ]
     },
     "execution_count": 3,
     "metadata": {},
     "output_type": "execute_result"
    }
   ],
   "source": [
    "ground_truth = pd.read_csv('TableS5_S6_S7_S8_ref/NK_gt_stats.csv')\n",
    "ground_truth"
   ]
  },
  {
   "cell_type": "code",
   "execution_count": 4,
   "metadata": {},
   "outputs": [
    {
     "data": {
      "text/html": [
       "<div>\n",
       "<style scoped>\n",
       "    .dataframe tbody tr th:only-of-type {\n",
       "        vertical-align: middle;\n",
       "    }\n",
       "\n",
       "    .dataframe tbody tr th {\n",
       "        vertical-align: top;\n",
       "    }\n",
       "\n",
       "    .dataframe thead th {\n",
       "        text-align: right;\n",
       "    }\n",
       "</style>\n",
       "<table border=\"1\" class=\"dataframe\">\n",
       "  <thead>\n",
       "    <tr style=\"text-align: right;\">\n",
       "      <th></th>\n",
       "      <th>y_x</th>\n",
       "      <th>lnFA_pos</th>\n",
       "    </tr>\n",
       "  </thead>\n",
       "  <tbody>\n",
       "    <tr>\n",
       "      <th>0</th>\n",
       "      <td>6259_13990</td>\n",
       "      <td>10.248563</td>\n",
       "    </tr>\n",
       "    <tr>\n",
       "      <th>1</th>\n",
       "      <td>6259_13991</td>\n",
       "      <td>10.400067</td>\n",
       "    </tr>\n",
       "    <tr>\n",
       "      <th>2</th>\n",
       "      <td>6259_13992</td>\n",
       "      <td>10.674697</td>\n",
       "    </tr>\n",
       "    <tr>\n",
       "      <th>3</th>\n",
       "      <td>6260_13989</td>\n",
       "      <td>8.040461</td>\n",
       "    </tr>\n",
       "    <tr>\n",
       "      <th>4</th>\n",
       "      <td>6260_13990</td>\n",
       "      <td>9.694391</td>\n",
       "    </tr>\n",
       "    <tr>\n",
       "      <th>...</th>\n",
       "      <td>...</td>\n",
       "      <td>...</td>\n",
       "    </tr>\n",
       "    <tr>\n",
       "      <th>32573</th>\n",
       "      <td>6267_13903</td>\n",
       "      <td>12.064279</td>\n",
       "    </tr>\n",
       "    <tr>\n",
       "      <th>32574</th>\n",
       "      <td>6267_13904</td>\n",
       "      <td>12.540922</td>\n",
       "    </tr>\n",
       "    <tr>\n",
       "      <th>32575</th>\n",
       "      <td>6268_13901</td>\n",
       "      <td>11.361325</td>\n",
       "    </tr>\n",
       "    <tr>\n",
       "      <th>32576</th>\n",
       "      <td>6268_13902</td>\n",
       "      <td>11.264045</td>\n",
       "    </tr>\n",
       "    <tr>\n",
       "      <th>32577</th>\n",
       "      <td>6268_13903</td>\n",
       "      <td>10.628843</td>\n",
       "    </tr>\n",
       "  </tbody>\n",
       "</table>\n",
       "<p>22619 rows × 2 columns</p>\n",
       "</div>"
      ],
      "text/plain": [
       "              y_x   lnFA_pos\n",
       "0      6259_13990  10.248563\n",
       "1      6259_13991  10.400067\n",
       "2      6259_13992  10.674697\n",
       "3      6260_13989   8.040461\n",
       "4      6260_13990   9.694391\n",
       "...           ...        ...\n",
       "32573  6267_13903  12.064279\n",
       "32574  6267_13904  12.540922\n",
       "32575  6268_13901  11.361325\n",
       "32576  6268_13902  11.264045\n",
       "32577  6268_13903  10.628843\n",
       "\n",
       "[22619 rows x 2 columns]"
      ]
     },
     "execution_count": 4,
     "metadata": {},
     "output_type": "execute_result"
    }
   ],
   "source": [
    "ground_truth['lnFA_pos'] = ground_truth['FA2014'].apply(lambda x: np.log(float(x)+1))\n",
    "ground_truth = ground_truth.loc[ground_truth['lnFA_pos']>0]\n",
    "gt_summary = ground_truth[['y_x','lnFA_pos']]\n",
    "gt_summary"
   ]
  },
  {
   "cell_type": "code",
   "execution_count": 5,
   "metadata": {},
   "outputs": [],
   "source": [
    "def spearman_corr(gt_df, pred_df):\n",
    "    score = 'score'\n",
    "    pred_group_df = pred_df[score].groupby(pred_df['y_x']).mean()\n",
    "    pred_join_df = pd.merge(left=gt_df,right=pred_group_df,how='left',on=['y_x'],sort=False).dropna()\n",
    "    spearman = 'spearman'\n",
    "    print(spearman,abs(pred_join_df.corr(method=spearman)['lnFA_pos'][score]),end='\\n')\n",
    "    "
   ]
  },
  {
   "cell_type": "markdown",
   "metadata": {},
   "source": [
    "## *siScore* performance  \n",
    "\n",
    "Our model returns the scoring model at the third stage. The all results over NK are saved in `Stage3` directory.  \n",
    "Materials path : `../../Stage3/nk_NK_scores.csv`, or simply `TableS5_S6_S7_S8_ref/nk_NK_scores.csv`"
   ]
  },
  {
   "cell_type": "code",
   "execution_count": 6,
   "metadata": {},
   "outputs": [
    {
     "name": "stdout",
     "output_type": "stream",
     "text": [
      "spearman 0.7739659532727418\n"
     ]
    }
   ],
   "source": [
    "NK_df = pd.read_csv('../../Stage3/nk_NK_scores.csv')\n",
    "spearman_corr(gt_summary,NK_df)"
   ]
  },
  {
   "cell_type": "markdown",
   "metadata": {},
   "source": [
    "## TableS5  \n",
    "Training CNN from other countries satellite imagery (Nepal, Bangladesh) to predict FA.  \n",
    "Materials path : `TableS5_S6_S7_S8_ref/Nepal_to_NK.csv`, `TableS5_S6_S7_S8_ref/Bangladesh_to_NK.csv`"
   ]
  },
  {
   "cell_type": "code",
   "execution_count": 7,
   "metadata": {},
   "outputs": [],
   "source": [
    "Nepal_df = pd.read_csv('TableS5_S6_S7_S8_ref/Nepal_to_NK.csv')\n",
    "Bangladesh_df = pd.read_csv('TableS5_S6_S7_S8_ref/Bangladesh_to_NK.csv')\n",
    "SouthKorea_df = pd.read_csv('TableS5_S6_S7_S8_ref/SK_to_NK.csv')"
   ]
  },
  {
   "cell_type": "markdown",
   "metadata": {},
   "source": [
    "### Nepal to NK  "
   ]
  },
  {
   "cell_type": "code",
   "execution_count": 8,
   "metadata": {},
   "outputs": [
    {
     "name": "stdout",
     "output_type": "stream",
     "text": [
      "spearman 0.48052687284651696\n"
     ]
    }
   ],
   "source": [
    "spearman_corr(gt_summary,Nepal_df)"
   ]
  },
  {
   "cell_type": "markdown",
   "metadata": {},
   "source": [
    "### Bangladesh to NK  "
   ]
  },
  {
   "cell_type": "code",
   "execution_count": 9,
   "metadata": {},
   "outputs": [
    {
     "name": "stdout",
     "output_type": "stream",
     "text": [
      "spearman 0.5029620760610586\n"
     ]
    }
   ],
   "source": [
    "spearman_corr(gt_summary,Bangladesh_df)"
   ]
  },
  {
   "cell_type": "markdown",
   "metadata": {},
   "source": [
    "### South Korea to NK  "
   ]
  },
  {
   "cell_type": "code",
   "execution_count": 10,
   "metadata": {},
   "outputs": [
    {
     "name": "stdout",
     "output_type": "stream",
     "text": [
      "spearman 0.32895834659334444\n"
     ]
    }
   ],
   "source": [
    "spearman_corr(gt_summary,SouthKorea_df)"
   ]
  },
  {
   "cell_type": "markdown",
   "metadata": {},
   "source": [
    "As a result, we got a TableS5 as follows:  \n",
    "&nbsp;  \n",
    "  \n",
    "<div>  <img src=\"../Supplementary/Table/TableS5.png\" width=500 /> </div>  \n"
   ]
  },
  {
   "cell_type": "markdown",
   "metadata": {},
   "source": [
    "## TableS6"
   ]
  },
  {
   "cell_type": "code",
   "execution_count": 28,
   "metadata": {},
   "outputs": [],
   "source": [
    "t_BN_v_S_df = pd.read_csv('TableS5_S6_S7_S8_ref/train_Bangladesh_Nepal-val_SK_to_NK.csv')\n",
    "t_BS_v_N_df = pd.read_csv('TableS5_S6_S7_S8_ref/train_Bangladesh_SK-val_Nepal_to_NK.csv')\n",
    "t_NS_v_B_df = pd.read_csv('TableS5_S6_S7_S8_ref/train_Nepal_SK-val_Bangladesh_to_NK.csv')\n",
    "t_BNS_v_BNS_df = pd.read_csv('TableS5_S6_S7_S8_ref/train_val_split_8020_Bangladesh_Nepal_SK_to_NK.csv')"
   ]
  },
  {
   "cell_type": "code",
   "execution_count": 27,
   "metadata": {},
   "outputs": [
    {
     "name": "stdout",
     "output_type": "stream",
     "text": [
      "spearman 0.3620079770914801\n"
     ]
    }
   ],
   "source": [
    "spearman_corr(gt_summary,t_BN_v_S_df)"
   ]
  },
  {
   "cell_type": "code",
   "execution_count": 29,
   "metadata": {},
   "outputs": [
    {
     "name": "stdout",
     "output_type": "stream",
     "text": [
      "spearman 0.23273674628426652\n"
     ]
    }
   ],
   "source": [
    "spearman_corr(gt_summary,t_BS_v_N_df)"
   ]
  },
  {
   "cell_type": "code",
   "execution_count": 30,
   "metadata": {
    "scrolled": true
   },
   "outputs": [
    {
     "name": "stdout",
     "output_type": "stream",
     "text": [
      "spearman 0.1010350643326365\n"
     ]
    }
   ],
   "source": [
    "spearman_corr(gt_summary,t_NS_v_B_df)"
   ]
  },
  {
   "cell_type": "code",
   "execution_count": 31,
   "metadata": {
    "scrolled": true
   },
   "outputs": [
    {
     "name": "stdout",
     "output_type": "stream",
     "text": [
      "spearman 0.09243654409607122\n"
     ]
    }
   ],
   "source": [
    "spearman_corr(gt_summary,t_BNS_v_BNS_df)"
   ]
  },
  {
   "cell_type": "markdown",
   "metadata": {},
   "source": [
    "As a result, we got a TableS6 as follows:  \n",
    "&nbsp;  \n",
    "  \n",
    "<div>  <img src=\"../Supplementary/Table/TableS6.png\" width=800 /> </div>  "
   ]
  },
  {
   "cell_type": "markdown",
   "metadata": {},
   "source": [
    "## TableS7\n"
   ]
  },
  {
   "cell_type": "markdown",
   "metadata": {},
   "source": [
    "Comparing our model to the model utilizes data-driven POG in Stage 2 / the regression model.  \n",
    "Materials path : `TableS5_S6_S7_S8_ref/NK_NL_guided.csv`, `TableS5_S6_S7_S8_ref/NK_LC_guided.csv`"
   ]
  },
  {
   "cell_type": "markdown",
   "metadata": {},
   "source": [
    "### Regression  "
   ]
  },
  {
   "cell_type": "markdown",
   "metadata": {},
   "source": [
    "For regression models, we directly got a spearman correlation from each material by using Excel.  \n",
    "We got a spearman correlation of _0.4291 / 0.7050_ by utilzing _nightlight / land cover_ based regression model, respectively.  "
   ]
  },
  {
   "cell_type": "markdown",
   "metadata": {},
   "source": [
    "### Data-guided POG  "
   ]
  },
  {
   "cell_type": "code",
   "execution_count": 32,
   "metadata": {},
   "outputs": [],
   "source": [
    "Nightlight_guided_df = pd.read_csv('TableS5_S6_S7_S8_ref/NK_NL_guided.csv')"
   ]
  },
  {
   "cell_type": "code",
   "execution_count": 33,
   "metadata": {},
   "outputs": [
    {
     "name": "stdout",
     "output_type": "stream",
     "text": [
      "spearman 0.5681678431045201\n"
     ]
    }
   ],
   "source": [
    "spearman_corr(gt_summary,Nightlight_guided_df)"
   ]
  },
  {
   "cell_type": "code",
   "execution_count": 34,
   "metadata": {},
   "outputs": [],
   "source": [
    "Landcover_guided_df = pd.read_csv('TableS5_S6_S7_S8_ref/NK_LC_guided.csv')"
   ]
  },
  {
   "cell_type": "code",
   "execution_count": 35,
   "metadata": {},
   "outputs": [
    {
     "name": "stdout",
     "output_type": "stream",
     "text": [
      "spearman 0.7338402314263139\n"
     ]
    }
   ],
   "source": [
    "spearman_corr(gt_summary,Landcover_guided_df)"
   ]
  },
  {
   "cell_type": "markdown",
   "metadata": {},
   "source": [
    "As a result, we got a TableS7 as follows:  \n",
    "\n",
    "&nbsp;  \n",
    "  \n",
    "<div>  <img src=\"../Supplementary/Table/TableS7.png\" width=700 /> </div> "
   ]
  },
  {
   "cell_type": "markdown",
   "metadata": {},
   "source": [
    "## TableS8  \n"
   ]
  },
  {
   "cell_type": "markdown",
   "metadata": {},
   "source": [
    "Report performance of our model's ablation studies (on other loss function).  \n",
    "Test for the model hiring pairwise loss/ triplet loss (margin = 0.5).   "
   ]
  },
  {
   "cell_type": "code",
   "execution_count": 36,
   "metadata": {},
   "outputs": [],
   "source": [
    "Pairwise_loss_df = pd.read_csv('TableS5_S6_S7_S8_ref/NK_score_pairwise_05.csv')"
   ]
  },
  {
   "cell_type": "code",
   "execution_count": 37,
   "metadata": {
    "scrolled": true
   },
   "outputs": [
    {
     "name": "stdout",
     "output_type": "stream",
     "text": [
      "spearman 0.652654068054562\n"
     ]
    }
   ],
   "source": [
    "spearman_corr(gt_summary,Pairwise_loss_df)"
   ]
  },
  {
   "cell_type": "code",
   "execution_count": 38,
   "metadata": {},
   "outputs": [],
   "source": [
    "Triplet_loss_df = pd.read_csv('TableS5_S6_S7_S8_ref/NK_score_triplet_05.csv')"
   ]
  },
  {
   "cell_type": "code",
   "execution_count": 39,
   "metadata": {},
   "outputs": [
    {
     "name": "stdout",
     "output_type": "stream",
     "text": [
      "spearman 0.31920391866887526\n"
     ]
    }
   ],
   "source": [
    "spearman_corr(gt_summary,Triplet_loss_df)"
   ]
  },
  {
   "cell_type": "markdown",
   "metadata": {},
   "source": [
    "As a result, we got a TableS8 as follows:  \n",
    "\n",
    "&nbsp;  \n",
    "  \n",
    "<div>  <img src=\"../Supplementary/Table/TableS8.png\" width=700 /> </div> "
   ]
  },
  {
   "cell_type": "code",
   "execution_count": null,
   "metadata": {},
   "outputs": [],
   "source": []
  }
 ],
 "metadata": {
  "kernelspec": {
   "display_name": "Python 3",
   "language": "python",
   "name": "python3"
  },
  "language_info": {
   "codemirror_mode": {
    "name": "ipython",
    "version": 3
   },
   "file_extension": ".py",
   "mimetype": "text/x-python",
   "name": "python",
   "nbconvert_exporter": "python",
   "pygments_lexer": "ipython3",
   "version": "3.8.10"
  }
 },
 "nbformat": 4,
 "nbformat_minor": 4
}
